{
  "nbformat": 4,
  "nbformat_minor": 0,
  "metadata": {
    "colab": {
      "name": "Untitled1.ipynb",
      "provenance": [],
      "include_colab_link": true
    },
    "kernelspec": {
      "name": "python3",
      "display_name": "Python 3"
    },
    "accelerator": "GPU"
  },
  "cells": [
    {
      "cell_type": "markdown",
      "metadata": {
        "id": "view-in-github",
        "colab_type": "text"
      },
      "source": [
        "<a href=\"https://colab.research.google.com/github/AshnakAGQ/DistractedDriver/blob/master/project.ipynb\" target=\"_parent\"><img src=\"https://colab.research.google.com/assets/colab-badge.svg\" alt=\"Open In Colab\"/></a>"
      ]
    },
    {
      "cell_type": "markdown",
      "metadata": {
        "id": "UwqRCOOqopRu",
        "colab_type": "text"
      },
      "source": [
        "#Setup"
      ]
    },
    {
      "cell_type": "markdown",
      "metadata": {
        "id": "rWv3NeCcpRKK",
        "colab_type": "text"
      },
      "source": [
        "##Tensorflow"
      ]
    },
    {
      "cell_type": "code",
      "metadata": {
        "id": "sIxrEcZhFGvf",
        "colab_type": "code",
        "outputId": "77e5b947-a0ca-4412-dcbb-3607a5a24f92",
        "colab": {
          "base_uri": "https://localhost:8080/",
          "height": 646
        }
      },
      "source": [
        "!pip install tf-nightly\n",
        "import tensorflow as tf\n",
        "from tensorflow import keras\n",
        "from tensorflow.keras import layers\n",
        "from tensorflow.keras.applications.vgg16 import VGG16\n",
        "from tensorflow.keras.applications.resnet import ResNet50\n",
        "from tensorflow.keras.applications.inception_v3 import InceptionV3\n",
        "from tensorflow.keras.applications.vgg16 import preprocess_input\n",
        "from tensorflow.keras.applications.resnet50 import preprocess_input\n",
        "from tensorflow.keras.applications.inception_v3 import preprocess_input\n",
        "from tensorflow.keras.models import Model\n",
        "from tensorflow.keras.layers import Dense\n",
        "from tensorflow.keras.layers import Flatten\n",
        "from tensorflow.keras.layers import Dropout\n",
        "from tensorflow.keras import Sequential\n",
        "import matplotlib.pyplot as plt"
      ],
      "execution_count": 0,
      "outputs": [
        {
          "output_type": "stream",
          "text": [
            "Requirement already satisfied: tf-nightly in /usr/local/lib/python3.6/dist-packages (2.3.0.dev20200611)\n",
            "Requirement already satisfied: astunparse==1.6.3 in /usr/local/lib/python3.6/dist-packages (from tf-nightly) (1.6.3)\n",
            "Requirement already satisfied: h5py<2.11.0,>=2.10.0 in /usr/local/lib/python3.6/dist-packages (from tf-nightly) (2.10.0)\n",
            "Requirement already satisfied: termcolor>=1.1.0 in /usr/local/lib/python3.6/dist-packages (from tf-nightly) (1.1.0)\n",
            "Requirement already satisfied: tb-nightly<2.4.0a0,>=2.3.0a0 in /usr/local/lib/python3.6/dist-packages (from tf-nightly) (2.3.0a20200611)\n",
            "Requirement already satisfied: wrapt>=1.11.1 in /usr/local/lib/python3.6/dist-packages (from tf-nightly) (1.12.1)\n",
            "Requirement already satisfied: tf-estimator-nightly in /usr/local/lib/python3.6/dist-packages (from tf-nightly) (2.3.0.dev2020061101)\n",
            "Requirement already satisfied: google-pasta>=0.1.8 in /usr/local/lib/python3.6/dist-packages (from tf-nightly) (0.2.0)\n",
            "Requirement already satisfied: absl-py>=0.7.0 in /usr/local/lib/python3.6/dist-packages (from tf-nightly) (0.9.0)\n",
            "Requirement already satisfied: keras-preprocessing<1.2,>=1.1.1 in /usr/local/lib/python3.6/dist-packages (from tf-nightly) (1.1.2)\n",
            "Requirement already satisfied: wheel>=0.26 in /usr/local/lib/python3.6/dist-packages (from tf-nightly) (0.34.2)\n",
            "Requirement already satisfied: six>=1.12.0 in /usr/local/lib/python3.6/dist-packages (from tf-nightly) (1.12.0)\n",
            "Requirement already satisfied: opt-einsum>=2.3.2 in /usr/local/lib/python3.6/dist-packages (from tf-nightly) (3.2.1)\n",
            "Requirement already satisfied: scipy==1.4.1 in /usr/local/lib/python3.6/dist-packages (from tf-nightly) (1.4.1)\n",
            "Requirement already satisfied: protobuf>=3.9.2 in /usr/local/lib/python3.6/dist-packages (from tf-nightly) (3.10.0)\n",
            "Requirement already satisfied: grpcio>=1.8.6 in /usr/local/lib/python3.6/dist-packages (from tf-nightly) (1.29.0)\n",
            "Requirement already satisfied: gast==0.3.3 in /usr/local/lib/python3.6/dist-packages (from tf-nightly) (0.3.3)\n",
            "Requirement already satisfied: numpy<2.0,>=1.16.0 in /usr/local/lib/python3.6/dist-packages (from tf-nightly) (1.18.5)\n",
            "Requirement already satisfied: markdown>=2.6.8 in /usr/local/lib/python3.6/dist-packages (from tb-nightly<2.4.0a0,>=2.3.0a0->tf-nightly) (3.2.2)\n",
            "Requirement already satisfied: werkzeug>=0.11.15 in /usr/local/lib/python3.6/dist-packages (from tb-nightly<2.4.0a0,>=2.3.0a0->tf-nightly) (1.0.1)\n",
            "Requirement already satisfied: tensorboard-plugin-wit>=1.6.0 in /usr/local/lib/python3.6/dist-packages (from tb-nightly<2.4.0a0,>=2.3.0a0->tf-nightly) (1.6.0.post3)\n",
            "Requirement already satisfied: google-auth<2,>=1.6.3 in /usr/local/lib/python3.6/dist-packages (from tb-nightly<2.4.0a0,>=2.3.0a0->tf-nightly) (1.7.2)\n",
            "Requirement already satisfied: setuptools>=41.0.0 in /usr/local/lib/python3.6/dist-packages (from tb-nightly<2.4.0a0,>=2.3.0a0->tf-nightly) (47.1.1)\n",
            "Requirement already satisfied: google-auth-oauthlib<0.5,>=0.4.1 in /usr/local/lib/python3.6/dist-packages (from tb-nightly<2.4.0a0,>=2.3.0a0->tf-nightly) (0.4.1)\n",
            "Requirement already satisfied: requests<3,>=2.21.0 in /usr/local/lib/python3.6/dist-packages (from tb-nightly<2.4.0a0,>=2.3.0a0->tf-nightly) (2.23.0)\n",
            "Requirement already satisfied: importlib-metadata; python_version < \"3.8\" in /usr/local/lib/python3.6/dist-packages (from markdown>=2.6.8->tb-nightly<2.4.0a0,>=2.3.0a0->tf-nightly) (1.6.0)\n",
            "Requirement already satisfied: cachetools<3.2,>=2.0.0 in /usr/local/lib/python3.6/dist-packages (from google-auth<2,>=1.6.3->tb-nightly<2.4.0a0,>=2.3.0a0->tf-nightly) (3.1.1)\n",
            "Requirement already satisfied: rsa<4.1,>=3.1.4 in /usr/local/lib/python3.6/dist-packages (from google-auth<2,>=1.6.3->tb-nightly<2.4.0a0,>=2.3.0a0->tf-nightly) (4.0)\n",
            "Requirement already satisfied: pyasn1-modules>=0.2.1 in /usr/local/lib/python3.6/dist-packages (from google-auth<2,>=1.6.3->tb-nightly<2.4.0a0,>=2.3.0a0->tf-nightly) (0.2.8)\n",
            "Requirement already satisfied: requests-oauthlib>=0.7.0 in /usr/local/lib/python3.6/dist-packages (from google-auth-oauthlib<0.5,>=0.4.1->tb-nightly<2.4.0a0,>=2.3.0a0->tf-nightly) (1.3.0)\n",
            "Requirement already satisfied: urllib3!=1.25.0,!=1.25.1,<1.26,>=1.21.1 in /usr/local/lib/python3.6/dist-packages (from requests<3,>=2.21.0->tb-nightly<2.4.0a0,>=2.3.0a0->tf-nightly) (1.24.3)\n",
            "Requirement already satisfied: chardet<4,>=3.0.2 in /usr/local/lib/python3.6/dist-packages (from requests<3,>=2.21.0->tb-nightly<2.4.0a0,>=2.3.0a0->tf-nightly) (3.0.4)\n",
            "Requirement already satisfied: idna<3,>=2.5 in /usr/local/lib/python3.6/dist-packages (from requests<3,>=2.21.0->tb-nightly<2.4.0a0,>=2.3.0a0->tf-nightly) (2.9)\n",
            "Requirement already satisfied: certifi>=2017.4.17 in /usr/local/lib/python3.6/dist-packages (from requests<3,>=2.21.0->tb-nightly<2.4.0a0,>=2.3.0a0->tf-nightly) (2020.4.5.1)\n",
            "Requirement already satisfied: zipp>=0.5 in /usr/local/lib/python3.6/dist-packages (from importlib-metadata; python_version < \"3.8\"->markdown>=2.6.8->tb-nightly<2.4.0a0,>=2.3.0a0->tf-nightly) (3.1.0)\n",
            "Requirement already satisfied: pyasn1>=0.1.3 in /usr/local/lib/python3.6/dist-packages (from rsa<4.1,>=3.1.4->google-auth<2,>=1.6.3->tb-nightly<2.4.0a0,>=2.3.0a0->tf-nightly) (0.4.8)\n",
            "Requirement already satisfied: oauthlib>=3.0.0 in /usr/local/lib/python3.6/dist-packages (from requests-oauthlib>=0.7.0->google-auth-oauthlib<0.5,>=0.4.1->tb-nightly<2.4.0a0,>=2.3.0a0->tf-nightly) (3.1.0)\n"
          ],
          "name": "stdout"
        }
      ]
    },
    {
      "cell_type": "code",
      "metadata": {
        "id": "vKRq_ruELmkW",
        "colab_type": "code",
        "outputId": "171348eb-41d2-4f23-9c35-dfd90fa895e1",
        "colab": {
          "base_uri": "https://localhost:8080/",
          "height": 33
        }
      },
      "source": [
        "print(tf.__version__)"
      ],
      "execution_count": 0,
      "outputs": [
        {
          "output_type": "stream",
          "text": [
            "2.3.0-dev20200610\n"
          ],
          "name": "stdout"
        }
      ]
    },
    {
      "cell_type": "markdown",
      "metadata": {
        "id": "0zKAvv4JpaYd",
        "colab_type": "text"
      },
      "source": [
        "##Google Drive"
      ]
    },
    {
      "cell_type": "code",
      "metadata": {
        "id": "JGfVWT48pCNv",
        "colab_type": "code",
        "outputId": "d0c3ac77-0d25-4826-d710-a8e23f091212",
        "colab": {
          "base_uri": "https://localhost:8080/",
          "height": 122
        }
      },
      "source": [
        "from google.colab import drive\n",
        "drive.mount('/content/drive')"
      ],
      "execution_count": 0,
      "outputs": [
        {
          "output_type": "stream",
          "text": [
            "Go to this URL in a browser: https://accounts.google.com/o/oauth2/auth?client_id=947318989803-6bn6qk8qdgf4n4g3pfee6491hc0brc4i.apps.googleusercontent.com&redirect_uri=urn%3aietf%3awg%3aoauth%3a2.0%3aoob&response_type=code&scope=email%20https%3a%2f%2fwww.googleapis.com%2fauth%2fdocs.test%20https%3a%2f%2fwww.googleapis.com%2fauth%2fdrive%20https%3a%2f%2fwww.googleapis.com%2fauth%2fdrive.photos.readonly%20https%3a%2f%2fwww.googleapis.com%2fauth%2fpeopleapi.readonly\n",
            "\n",
            "Enter your authorization code:\n",
            "··········\n",
            "Mounted at /content/drive\n"
          ],
          "name": "stdout"
        }
      ]
    },
    {
      "cell_type": "markdown",
      "metadata": {
        "id": "lT2hXoZDpp4C",
        "colab_type": "text"
      },
      "source": [
        "##Kaggle"
      ]
    },
    {
      "cell_type": "code",
      "metadata": {
        "id": "fHYGZPgIo6rE",
        "colab_type": "code",
        "outputId": "c9954562-6e65-40ef-9f7a-8273c774395c",
        "colab": {
          "base_uri": "https://localhost:8080/",
          "height": 204
        }
      },
      "source": [
        "!pip install kaggle\n",
        "import os # Sets the environment variables in the root folder \n",
        "os.environ['KAGGLE_USERNAME'] = \"unorna\"\n",
        "os.environ['KAGGLE_KEY'] = \"0a21e3dad74e374d7054ac533a76ede3\"\n",
        "import kaggle\n",
        "kaggle.api.authenticate()\n",
        "kaggle.api.competition_download_files('state-farm-distracted-driver-detection', path = 'data/DistractedDriver')\n",
        "!unzip -q data/DistractedDriver/state-farm-distracted-driver-detection.zip  #unzips kaggle data into content/data"
      ],
      "execution_count": 0,
      "outputs": [
        {
          "output_type": "stream",
          "text": [
            "Requirement already satisfied: kaggle in /usr/local/lib/python3.6/dist-packages (1.5.6)\n",
            "Requirement already satisfied: six>=1.10 in /usr/local/lib/python3.6/dist-packages (from kaggle) (1.12.0)\n",
            "Requirement already satisfied: certifi in /usr/local/lib/python3.6/dist-packages (from kaggle) (2020.4.5.1)\n",
            "Requirement already satisfied: python-dateutil in /usr/local/lib/python3.6/dist-packages (from kaggle) (2.8.1)\n",
            "Requirement already satisfied: python-slugify in /usr/local/lib/python3.6/dist-packages (from kaggle) (4.0.0)\n",
            "Requirement already satisfied: tqdm in /usr/local/lib/python3.6/dist-packages (from kaggle) (4.41.1)\n",
            "Requirement already satisfied: urllib3<1.25,>=1.21.1 in /usr/local/lib/python3.6/dist-packages (from kaggle) (1.24.3)\n",
            "Requirement already satisfied: requests in /usr/local/lib/python3.6/dist-packages (from kaggle) (2.23.0)\n",
            "Requirement already satisfied: text-unidecode>=1.3 in /usr/local/lib/python3.6/dist-packages (from python-slugify->kaggle) (1.3)\n",
            "Requirement already satisfied: chardet<4,>=3.0.2 in /usr/local/lib/python3.6/dist-packages (from requests->kaggle) (3.0.4)\n",
            "Requirement already satisfied: idna<3,>=2.5 in /usr/local/lib/python3.6/dist-packages (from requests->kaggle) (2.9)\n"
          ],
          "name": "stdout"
        }
      ]
    },
    {
      "cell_type": "markdown",
      "metadata": {
        "id": "E0tsPMK_IQnt",
        "colab_type": "text"
      },
      "source": [
        "#Import image data\n"
      ]
    },
    {
      "cell_type": "code",
      "metadata": {
        "id": "XAnrkDPcFQLK",
        "colab_type": "code",
        "outputId": "33e9596c-4e8d-4d3f-89f5-b5b559d7e651",
        "colab": {
          "base_uri": "https://localhost:8080/",
          "height": 119
        }
      },
      "source": [
        "image_size = (224, 224) #image size for image net is 224 x 224 x 3\n",
        "batch_size = 32\n",
        "\n",
        "full_ds = tf.keras.preprocessing.image_dataset_from_directory(\n",
        "    \"imgs/train\",\n",
        "    image_size = image_size,\n",
        "    batch_size = batch_size,\n",
        "    shuffle = False\n",
        ")\n",
        "\n",
        "full_ds_s = tf.keras.preprocessing.image_dataset_from_directory(\n",
        "    \"imgs/train\",\n",
        "    seed = 1337,\n",
        "    image_size = image_size,\n",
        "    batch_size = batch_size,\n",
        "    shuffle = True\n",
        ")\n",
        "\n",
        "train_ds = tf.keras.preprocessing.image_dataset_from_directory(\n",
        "    \"imgs/train\",\n",
        "    seed = 1337,\n",
        "    image_size = image_size,\n",
        "    batch_size = batch_size,\n",
        "    subset = 'training',\n",
        "    validation_split = 0.2,\n",
        "    shuffle = True\n",
        ").prefetch(tf.data.experimental.AUTOTUNE)\n",
        "\n",
        "validation_ds = tf.keras.preprocessing.image_dataset_from_directory(\n",
        "    \"imgs/train\",\n",
        "    seed = 1337,\n",
        "    image_size = image_size,\n",
        "    batch_size = batch_size,\n",
        "    subset = 'validation',\n",
        "    validation_split = 0.2,\n",
        "    shuffle = True\n",
        ").prefetch(tf.data.experimental.AUTOTUNE)"
      ],
      "execution_count": 0,
      "outputs": [
        {
          "output_type": "stream",
          "text": [
            "Found 22424 files belonging to 10 classes.\n",
            "Found 22424 files belonging to 10 classes.\n",
            "Found 22424 files belonging to 10 classes.\n",
            "Using 17940 files for training.\n",
            "Found 22424 files belonging to 10 classes.\n",
            "Using 4484 files for validation.\n"
          ],
          "name": "stdout"
        }
      ]
    },
    {
      "cell_type": "markdown",
      "metadata": {
        "id": "2qnhgVpAoa59",
        "colab_type": "text"
      },
      "source": [
        "##View Data"
      ]
    },
    {
      "cell_type": "code",
      "metadata": {
        "id": "jrV8Che3Nc5W",
        "colab_type": "code",
        "colab": {}
      },
      "source": [
        "import matplotlib.pyplot as plt\n",
        "\n",
        "plt.figure(figsize=(10, 10))\n",
        "for images, labels in full_ds_s.take(1):\n",
        "    for i in range(16):\n",
        "        ax = plt.subplot(4, 4, i + 1)\n",
        "        plt.imshow(images[i].numpy().astype(\"uint8\"))\n",
        "        plt.title(int(labels[i]))\n",
        "        plt.axis(\"off\")"
      ],
      "execution_count": 0,
      "outputs": []
    },
    {
      "cell_type": "markdown",
      "metadata": {
        "id": "TRbF5vPBojQK",
        "colab_type": "text"
      },
      "source": [
        "#Cross-Validation"
      ]
    },
    {
      "cell_type": "code",
      "metadata": {
        "id": "4WiXL3Aw7UMv",
        "colab_type": "code",
        "colab": {}
      },
      "source": [
        "def crossvalidate(dataset, n_splits, batch_size=32, seed=0):\n",
        "\n",
        "  \"\"\"\n",
        "  Given a dataset, splits it into {n_splits} subsets, where for \n",
        "  any given index, train_ds[i] contains all the subsets except \n",
        "  the portion in val_ds[i]\n",
        "\n",
        "  Parameters\n",
        "  ----------\n",
        "  dataset : tensorflow.data.dataset\n",
        "      Full dataset to split\n",
        "    \n",
        "  n_splits : int\n",
        "      Number of splits; XFold # (at least 2 or greater)\n",
        "      \n",
        "  Returns\n",
        "  -------\n",
        "  train_ds : list (dtype=ConcatenateDataset)\n",
        "      List of datasets not containing the ith portion of data\n",
        "      \n",
        "  val_ds : list (dtype=ShardDataset)\n",
        "      List of datasets containing the ith portion of data\n",
        "  \n",
        "  \"\"\"\n",
        "\n",
        "  # Initialize lists\n",
        "  val_ds = []\n",
        "  train_ds = []\n",
        "\n",
        "  # Create val_ds first\n",
        "  for i in range(n_splits):\n",
        "    val_ds.append(dataset.shard(num_shards=n_splits, index=i).shuffle(buffer_size=batch_size * 8, seed=seed))\n",
        "\n",
        "  # Create train_ds using val_ds indexes other than the current index\n",
        "  for i in range(n_splits):\n",
        "    if i == 0:\n",
        "      train_ds.append(val_ds[1])\n",
        "    else:\n",
        "      train_ds.append(val_ds[0])\n",
        "    for a in range(1, i):\n",
        "      train_ds[i] = train_ds[i].concatenate(val_ds[a].shuffle(buffer_size=batch_size * 8, seed=seed))\n",
        "    for b in range(i+1, n_splits):\n",
        "      if not(i==0 and b==1):\n",
        "        train_ds[i] = train_ds[i].concatenate(val_ds[b].shuffle(buffer_size=batch_size * 8, seed=seed))\n",
        "\n",
        "  return train_ds, val_ds"
      ],
      "execution_count": 0,
      "outputs": []
    },
    {
      "cell_type": "code",
      "metadata": {
        "id": "7vkN2721d3qH",
        "colab_type": "code",
        "colab": {}
      },
      "source": [
        "n_splits = 5\n",
        "\n",
        "cv_training_ds, cv_val_ds = crossvalidate(full_ds, n_splits, seed=1337)\n",
        "\n",
        "\"\"\"# Set up prefetching\n",
        "for i in range(len(cv_training_ds)):m\n",
        "  cv_training_ds[i] = cv_training_ds[i].prefetch(tf.data.experimental.AUTOTUNE)\n",
        "  cv_val_ds[i] = cv_val_ds[i].prefetch(tf.data.experimental.AUTOTUNE)\n",
        "\"\"\"\n",
        "print(len(cv_training_ds), cv_training_ds[0])\n",
        "print(len(cv_val_ds), cv_val_ds[0])\n",
        "\n",
        "print(tf.data.experimental.cardinality(full_ds))\n",
        "print(tf.data.experimental.cardinality(cv_training_ds[1]))\n",
        "print(tf.data.experimental.cardinality(train_ds))\n",
        "print(tf.data.experimental.cardinality(cv_val_ds[1]))\n",
        "print(tf.data.experimental.cardinality(validation_ds))"
      ],
      "execution_count": 0,
      "outputs": []
    },
    {
      "cell_type": "code",
      "metadata": {
        "id": "KROQBQIGF8Ks",
        "colab_type": "code",
        "colab": {}
      },
      "source": [
        ""
      ],
      "execution_count": 0,
      "outputs": []
    },
    {
      "cell_type": "code",
      "metadata": {
        "id": "JUpPKntj4_yj",
        "colab_type": "code",
        "colab": {}
      },
      "source": [
        "\"\"\"import time\n",
        "def benchmark(dataset, num_epochs=2):\n",
        "    start_time = time.perf_counter()\n",
        "\n",
        "    model = VGG16(include_top=False,weights='imagenet', input_shape=(320,240,3))\n",
        "    flatten = Flatten()(model.outputs[-1])\n",
        "    output = Dense(10, activation = 'softmax')(flatten)\n",
        "    model = Model(inputs=model.inputs,outputs=output)\n",
        "\n",
        "    # Might have to copy data from Google Drive to the Google Environment\n",
        "    model.compile(optimizer='adam', loss = tf.keras.losses.SparseCategoricalCrossentropy(from_logits=False), metrics=['accuracy'])\n",
        "    model.fit(dataset, epochs=10)\n",
        "\n",
        "    # Generate generalization metrics\n",
        "    scores = model.evaluate(dataset, verbose=0)\n",
        "    \n",
        "    tf.print(\"Execution time:\", time.perf_counter() - start_time)\"\"\""
      ],
      "execution_count": 0,
      "outputs": []
    },
    {
      "cell_type": "code",
      "metadata": {
        "id": "llk69TQ7YMju",
        "colab_type": "code",
        "colab": {}
      },
      "source": [
        "import numpy as np\n",
        "\n",
        "for images, labels in full_ds_s.take(1):\n",
        "  print(images)"
      ],
      "execution_count": 0,
      "outputs": []
    },
    {
      "cell_type": "code",
      "metadata": {
        "id": "iaim5xut_lB6",
        "colab_type": "code",
        "colab": {}
      },
      "source": [
        "# batch size = 32\n",
        "#benchmark(cv_val_ds[0])"
      ],
      "execution_count": 0,
      "outputs": []
    },
    {
      "cell_type": "code",
      "metadata": {
        "id": "fVgL2BBUMwLy",
        "colab_type": "code",
        "colab": {}
      },
      "source": [
        "# batch size = 32\n",
        "#benchmark(cv_val_ds[0].prefetch(tf.data.experimental.AUTOTUNE))"
      ],
      "execution_count": 0,
      "outputs": []
    },
    {
      "cell_type": "code",
      "metadata": {
        "id": "FcoczWzVlQJZ",
        "colab_type": "code",
        "colab": {}
      },
      "source": [
        "# batch size = 128\n",
        "#benchmark(cv_val_ds[0].prefetch(tf.data.experimental.AUTOTUNE))"
      ],
      "execution_count": 0,
      "outputs": []
    },
    {
      "cell_type": "markdown",
      "metadata": {
        "id": "8O_2VNOEqrP5",
        "colab_type": "text"
      },
      "source": [
        "#Model Testing"
      ]
    },
    {
      "cell_type": "code",
      "metadata": {
        "id": "Pjp5I8cerM5V",
        "colab_type": "code",
        "colab": {}
      },
      "source": [
        "my_callbacks = [\n",
        "    tf.keras.callbacks.EarlyStopping(monitor='val_loss',mode ='min', patience=4),\n",
        "    tf.keras.callbacks.ModelCheckpoint(filepath='model.{epoch:02d}-{val_loss:.2f}.h5', save_best_only=True)\n",
        "]\n",
        "inception_callbacks = [\n",
        "    tf.keras.callbacks.EarlyStopping(monitor='val_loss',mode ='min', patience=4),\n",
        "    tf.keras.callbacks.ModelCheckpoint(filepath='inceptionmodel.{epoch:02d}-{val_loss:.2f}.h5', save_best_only=True)\n",
        "]\n",
        "\n",
        "resnet_callbacks = [\n",
        "    tf.keras.callbacks.EarlyStopping(monitor='loss',mode ='auto', patience=4),\n",
        "    tf.keras.callbacks.ModelCheckpoint(filepath='resnet.{epoch:02d}-{loss:.2f}.h5', save_best_only=True)\n",
        "\n",
        "]"
      ],
      "execution_count": 0,
      "outputs": []
    },
    {
      "cell_type": "markdown",
      "metadata": {
        "id": "Hi-JKjmMq2XR",
        "colab_type": "text"
      },
      "source": [
        "##VGG16"
      ]
    },
    {
      "cell_type": "markdown",
      "metadata": {
        "id": "Jqzq4ITIsLu0",
        "colab_type": "text"
      },
      "source": [
        "###Summary"
      ]
    },
    {
      "cell_type": "code",
      "metadata": {
        "id": "MqXo7wj5C-7j",
        "colab_type": "code",
        "outputId": "c9a79a39-6d53-4879-cece-4c4fee89cf25",
        "colab": {
          "base_uri": "https://localhost:8080/",
          "height": 357
        }
      },
      "source": [
        "VGGnet = VGG16(include_top=False, weights = \"imagenet\", input_shape=(224, 224, 3))\n",
        "flatten = Flatten()(VGGnet.outputs[-1])\n",
        "VGGnet = Model(inputs=VGGnet.inputs,outputs=flatten)\n",
        "vgg_model = Sequential()\n",
        "vgg_model.add(VGGnet)\n",
        "vgg_model.add(Dense(4096, activation='relu'))\n",
        "vgg_model.add(Dropout(0.3))\n",
        "vgg_model.add(Dense(4096, activation='relu'))\n",
        "vgg_model.add(Dropout(0.3))\n",
        "vgg_model.add(Dense(10, activation='softmax'))\n",
        "#model = VGG16(include_top=False,weights='imagenet', input_shape=(224,224,3))\n",
        "#flatten = Flatten()(model.outputs[-1])\n",
        "#output = Dense(10, activation = 'softmax')(flatten)\n",
        "#model = Model(inputs=model.inputs,outputs=output)\n",
        "vgg_model.summary()"
      ],
      "execution_count": 0,
      "outputs": [
        {
          "output_type": "stream",
          "text": [
            "Model: \"sequential_3\"\n",
            "_________________________________________________________________\n",
            "Layer (type)                 Output Shape              Param #   \n",
            "=================================================================\n",
            "functional_7 (Functional)    (None, 25088)             14714688  \n",
            "_________________________________________________________________\n",
            "dense_9 (Dense)              (None, 4096)              102764544 \n",
            "_________________________________________________________________\n",
            "dropout_6 (Dropout)          (None, 4096)              0         \n",
            "_________________________________________________________________\n",
            "dense_10 (Dense)             (None, 4096)              16781312  \n",
            "_________________________________________________________________\n",
            "dropout_7 (Dropout)          (None, 4096)              0         \n",
            "_________________________________________________________________\n",
            "dense_11 (Dense)             (None, 10)                40970     \n",
            "=================================================================\n",
            "Total params: 134,301,514\n",
            "Trainable params: 134,301,514\n",
            "Non-trainable params: 0\n",
            "_________________________________________________________________\n"
          ],
          "name": "stdout"
        }
      ]
    },
    {
      "cell_type": "code",
      "metadata": {
        "id": "a3ea8Rrx8luk",
        "colab_type": "code",
        "colab": {}
      },
      "source": [
        "frozen_VGGnet = VGG16(include_top=False, weights = \"imagenet\", input_shape=(224, 224, 3))\n",
        "for layers in frozen_VGGnet.layers:\n",
        "  layers.trainable = False\n",
        "frozen_flatten = Flatten()(frozen_VGGnet.outputs[-1])\n",
        "frozen_VGGnet = Model(inputs=frozen_VGGnet.inputs,outputs=frozen_flatten)\n",
        "frozen_vgg_model = Sequential()\n",
        "frozen_vgg_model.add(frozen_VGGnet)\n",
        "frozen_vgg_model.add(Dense(4096, activation='relu'))\n",
        "frozen_vgg_model.add(Dropout(0.3))\n",
        "frozen_vgg_model.add(Dense(4096, activation='relu'))\n",
        "frozen_vgg_model.add(Dropout(0.3))\n",
        "frozen_vgg_model.add(Dense(10, activation='softmax'))"
      ],
      "execution_count": 0,
      "outputs": []
    },
    {
      "cell_type": "code",
      "metadata": {
        "id": "6RK6lvwVJkgH",
        "colab_type": "code",
        "colab": {}
      },
      "source": [
        "# model.save_weights('drive/My Drive/my_model_weights.h5') # Save the current model into Google Drive"
      ],
      "execution_count": 0,
      "outputs": []
    },
    {
      "cell_type": "markdown",
      "metadata": {
        "id": "nQZj-LDErqzx",
        "colab_type": "text"
      },
      "source": [
        "###Testing"
      ]
    },
    {
      "cell_type": "code",
      "metadata": {
        "id": "xBQRvIBY7qHg",
        "colab_type": "code",
        "colab": {}
      },
      "source": [
        "def VGG_preprocess(image,score):\n",
        "  image = keras.applications.vgg16.preprocess_input(image)\n",
        "  if score is None:\n",
        "        return image\n",
        "  else:\n",
        "        return image, score\n",
        "\n"
      ],
      "execution_count": 0,
      "outputs": []
    },
    {
      "cell_type": "code",
      "metadata": {
        "id": "Ppcmt5nC72zm",
        "colab_type": "code",
        "outputId": "6fd36189-a70c-4e03-fb3c-43bbd876e23f",
        "colab": {
          "base_uri": "https://localhost:8080/",
          "height": 357
        }
      },
      "source": [
        "train = full_ds_s.map(VGG_preprocess, num_parallel_calls=tf.data.experimental.AUTOTUNE)\n",
        "train = train.prefetch(tf.data.experimental.AUTOTUNE)\n",
        "\n",
        "vgg_model.compile(optimizer=keras.optimizers.SGD(lr=0.001), loss = 'sparse_categorical_crossentropy', metrics=['accuracy'])\n",
        "unfrozen_vgg_history = vgg_model.fit(train, epochs=10)"
      ],
      "execution_count": 0,
      "outputs": [
        {
          "output_type": "stream",
          "text": [
            "Epoch 1/10\n",
            "701/701 [==============================] - 159s 227ms/step - loss: 1.5910 - accuracy: 0.4331\n",
            "Epoch 2/10\n",
            "701/701 [==============================] - 159s 227ms/step - loss: 0.1425 - accuracy: 0.9571\n",
            "Epoch 3/10\n",
            "701/701 [==============================] - 159s 227ms/step - loss: 0.0413 - accuracy: 0.9883\n",
            "Epoch 4/10\n",
            "701/701 [==============================] - 159s 227ms/step - loss: 0.0222 - accuracy: 0.9935\n",
            "Epoch 5/10\n",
            "701/701 [==============================] - 159s 227ms/step - loss: 0.0130 - accuracy: 0.9962\n",
            "Epoch 6/10\n",
            "701/701 [==============================] - 159s 227ms/step - loss: 0.0071 - accuracy: 0.9985\n",
            "Epoch 7/10\n",
            "701/701 [==============================] - 159s 227ms/step - loss: 0.0069 - accuracy: 0.9982\n",
            "Epoch 8/10\n",
            "701/701 [==============================] - 159s 227ms/step - loss: 0.0045 - accuracy: 0.9985\n",
            "Epoch 9/10\n",
            "701/701 [==============================] - 159s 227ms/step - loss: 0.0022 - accuracy: 0.9995\n",
            "Epoch 10/10\n",
            "701/701 [==============================] - 159s 227ms/step - loss: 0.0030 - accuracy: 0.9989\n"
          ],
          "name": "stdout"
        }
      ]
    },
    {
      "cell_type": "code",
      "metadata": {
        "id": "uWVq40WDQwUE",
        "colab_type": "code",
        "outputId": "92198054-cab7-44a9-f7f1-91fed89550f8",
        "colab": {
          "base_uri": "https://localhost:8080/",
          "height": 357
        }
      },
      "source": [
        "train = full_ds_s.map(VGG_preprocess, num_parallel_calls=tf.data.experimental.AUTOTUNE)\n",
        "train = train.prefetch(tf.data.experimental.AUTOTUNE)\n",
        "\n",
        "frozen_vgg_model.compile(optimizer=keras.optimizers.SGD(lr=0.001), loss = 'sparse_categorical_crossentropy', metrics=['accuracy'])\n",
        "frozen_vgg_history = frozen_vgg_model.fit(train, epochs=10)"
      ],
      "execution_count": 0,
      "outputs": [
        {
          "output_type": "stream",
          "text": [
            "Epoch 1/10\n",
            "701/701 [==============================] - 104s 149ms/step - loss: 1.7867 - accuracy: 0.8611\n",
            "Epoch 2/10\n",
            "701/701 [==============================] - 102s 146ms/step - loss: 0.1006 - accuracy: 0.9756\n",
            "Epoch 3/10\n",
            "701/701 [==============================] - 103s 146ms/step - loss: 0.0401 - accuracy: 0.9893\n",
            "Epoch 4/10\n",
            "701/701 [==============================] - 103s 146ms/step - loss: 0.0262 - accuracy: 0.9928\n",
            "Epoch 5/10\n",
            "701/701 [==============================] - 103s 147ms/step - loss: 0.0194 - accuracy: 0.9940\n",
            "Epoch 6/10\n",
            "701/701 [==============================] - 103s 147ms/step - loss: 0.0152 - accuracy: 0.9953\n",
            "Epoch 7/10\n",
            "701/701 [==============================] - 103s 147ms/step - loss: 0.0103 - accuracy: 0.9971\n",
            "Epoch 8/10\n",
            "701/701 [==============================] - 103s 146ms/step - loss: 0.0082 - accuracy: 0.9972\n",
            "Epoch 9/10\n",
            "701/701 [==============================] - 102s 146ms/step - loss: 0.0079 - accuracy: 0.9975\n",
            "Epoch 10/10\n",
            "701/701 [==============================] - 102s 146ms/step - loss: 0.0074 - accuracy: 0.9972\n"
          ],
          "name": "stdout"
        }
      ]
    },
    {
      "cell_type": "code",
      "metadata": {
        "id": "UMZDCqvaQSd9",
        "colab_type": "code",
        "colab": {}
      },
      "source": [
        "\n",
        "accuracies = []\n",
        "losses = []\n",
        "\n",
        "for i in range(len(cv_training_ds)):\n",
        "\n",
        "  # Pre-processing\n",
        "  train = cv_training_ds[i].map(VGG_preprocess, num_parallel_calls=tf.data.experimental.AUTOTUNE)\n",
        "  train = train.prefetch(tf.data.experimental.AUTOTUNE)\n",
        "  val = cv_val_ds[i].map(VGG_preprocess, num_parallel_calls=tf.data.experimental.AUTOTUNE)\n",
        "  val = val.prefetch(tf.data.experimental.AUTOTUNE)\n",
        "\n",
        "  model = VGG16(include_top=True, weights = None, classes = 10, input_shape=(224, 224, 3))\n",
        "  #model = VGG16(include_top=False, classes = 10, input_shape=(320,240,3))\n",
        "  #flatten = Flatten()(model.outputs[-1])\n",
        "  #output = Dense(10, activation = 'softmax')(flatten)\n",
        "  #model = Model(inputs=model.inputs,outputs=output)\n",
        "\n",
        "  # Might have to copy data from Google Drive to the Google Environment\n",
        "  model.compile(optimizer='adam', loss = 'sparse_categorical_crossentropy', metrics=['accuracy'])\n",
        "  model.fit(train, epochs=10, validation_data=val, callbacks=my_callbacks)\n",
        "\n",
        "  # Generate generalization metrics\n",
        "  scores = model.evaluate(val, verbose=0)\n",
        "  accuracies.append(scores[1] * 100)\n",
        "  losses.append(scores[0])\n",
        "\n",
        "# == Provide average scores ==\n",
        "print('------------------------------------------------------------------------')\n",
        "print('Score per fold')\n",
        "for i in range(0, len(accuracies)):\n",
        "  print('------------------------------------------------------------------------')\n",
        "  print(f'> Fold {i+1} - Loss: {losses[i]} - Accuracy: {accuracies[i]}%')\n",
        "print('------------------------------------------------------------------------')\n",
        "print('Average scores for all folds:')\n",
        "print(f'> Accuracy: {np.mean(accuracies)} (+- {np.std(accuracies)})')\n",
        "print(f'> Loss: {np.mean(losses)}')\n",
        "print('------------------------------------------------------------------------')"
      ],
      "execution_count": 0,
      "outputs": []
    },
    {
      "cell_type": "markdown",
      "metadata": {
        "id": "SM_1KN4nXbsJ",
        "colab_type": "text"
      },
      "source": [
        "### Summary"
      ]
    },
    {
      "cell_type": "code",
      "metadata": {
        "id": "MPePwLjYXd4F",
        "colab_type": "code",
        "outputId": "430798ec-734d-40f0-807c-24a457b0bc9c",
        "colab": {
          "base_uri": "https://localhost:8080/",
          "height": 357
        }
      },
      "source": [
        "unfrozen_vgg_history.history"
      ],
      "execution_count": 0,
      "outputs": [
        {
          "output_type": "execute_result",
          "data": {
            "text/plain": [
              "{'accuracy': [0.4331073760986328,\n",
              "  0.9571441411972046,\n",
              "  0.9882714748382568,\n",
              "  0.993533730506897,\n",
              "  0.996209442615509,\n",
              "  0.9984837770462036,\n",
              "  0.9982162117958069,\n",
              "  0.9985283613204956,\n",
              "  0.9994648694992065,\n",
              "  0.9989297389984131],\n",
              " 'loss': [1.5909792184829712,\n",
              "  0.1425061821937561,\n",
              "  0.04129762575030327,\n",
              "  0.02215718850493431,\n",
              "  0.012991468422114849,\n",
              "  0.007085103541612625,\n",
              "  0.00692301569506526,\n",
              "  0.004514207132160664,\n",
              "  0.0022130031138658524,\n",
              "  0.0029658207204192877]}"
            ]
          },
          "metadata": {
            "tags": []
          },
          "execution_count": 11
        }
      ]
    },
    {
      "cell_type": "code",
      "metadata": {
        "id": "OS34M5SqXjFZ",
        "colab_type": "code",
        "outputId": "2a311ce0-c49b-492b-ff0e-2ca27ef1b34c",
        "colab": {
          "base_uri": "https://localhost:8080/",
          "height": 357
        }
      },
      "source": [
        "frozen_vgg_history.history"
      ],
      "execution_count": 0,
      "outputs": [
        {
          "output_type": "execute_result",
          "data": {
            "text/plain": [
              "{'accuracy': [0.8610863089561462,\n",
              "  0.9755619168281555,\n",
              "  0.9892972111701965,\n",
              "  0.9928202033042908,\n",
              "  0.9940242767333984,\n",
              "  0.9953175187110901,\n",
              "  0.9970567226409912,\n",
              "  0.997235119342804,\n",
              "  0.9975026845932007,\n",
              "  0.997190535068512],\n",
              " 'loss': [1.7866548299789429,\n",
              "  0.10057111084461212,\n",
              "  0.04011673480272293,\n",
              "  0.02623715251684189,\n",
              "  0.019368525594472885,\n",
              "  0.015210644342005253,\n",
              "  0.01033426821231842,\n",
              "  0.00824557151645422,\n",
              "  0.007892129942774773,\n",
              "  0.0073973312973976135]}"
            ]
          },
          "metadata": {
            "tags": []
          },
          "execution_count": 12
        }
      ]
    },
    {
      "cell_type": "code",
      "metadata": {
        "id": "SZnbfSwNXjNL",
        "colab_type": "code",
        "outputId": "8c5bdf8a-f9e4-4328-cdf9-ee5196939103",
        "colab": {
          "base_uri": "https://localhost:8080/",
          "height": 530
        }
      },
      "source": [
        "plt.figure(figsize=(12,8))\n",
        "plt.plot(frozen_vgg_history.history['accuracy'])\n",
        "plt.plot(unfrozen_vgg_history.history['accuracy'])\n",
        "plt.title(\"Comparing accuracy of frozen and unfrozen layers in VGG16 Model\")\n",
        "plt.xlabel('Number of epochs')\n",
        "plt.ylabel('Accuracy')\n",
        "plt.legend(['frozen','unfrozen'], loc='upper left')"
      ],
      "execution_count": 0,
      "outputs": [
        {
          "output_type": "execute_result",
          "data": {
            "text/plain": [
              "<matplotlib.legend.Legend at 0x7fe6ae746a20>"
            ]
          },
          "metadata": {
            "tags": []
          },
          "execution_count": 13
        },
        {
          "output_type": "display_data",
          "data": {
            "image/png": "[encoded data removed]",
            "text/plain": [
              "<Figure size 864x576 with 1 Axes>"
            ]
          },
          "metadata": {
            "tags": [],
            "needs_background": "light"
          }
        }
      ]
    },
    {
      "cell_type": "code",
      "metadata": {
        "id": "3DJyetWcX5BK",
        "colab_type": "code",
        "outputId": "d97aea74-02b1-405c-9e34-3dbf53799184",
        "colab": {
          "base_uri": "https://localhost:8080/",
          "height": 530
        }
      },
      "source": [
        "plt.figure(figsize=(12,8))\n",
        "plt.plot(frozen_vgg_history.history['loss'])\n",
        "plt.plot(unfrozen_vgg_history.history['loss'])\n",
        "plt.title(\"Comparing loss of frozen and unfrozen layers in VGG16 Model\")\n",
        "plt.xlabel('Number of epochs')\n",
        "plt.ylabel('Accuracy')\n",
        "plt.legend(['frozen','unfrozen'], loc='upper left')"
      ],
      "execution_count": 0,
      "outputs": [
        {
          "output_type": "execute_result",
          "data": {
            "text/plain": [
              "<matplotlib.legend.Legend at 0x7fe6ae72be80>"
            ]
          },
          "metadata": {
            "tags": []
          },
          "execution_count": 14
        },
        {
          "output_type": "display_data",
          "data": {
            "image/png": "[encoded data removed]",
            "text/plain": [
              "<Figure size 864x576 with 1 Axes>"
            ]
          },
          "metadata": {
            "tags": [],
            "needs_background": "light"
          }
        }
      ]
    },
    {
      "cell_type": "code",
      "metadata": {
        "id": "3Jtfio_iYJjl",
        "colab_type": "code",
        "colab": {}
      },
      "source": [
        "vgg_model.save(\"drive/My Drive/unfrozen_vgg16_model.h5\")\n",
        "frozen_vgg_model.save(\"drive/My Drive/frozen_vgg16_model.h5\")"
      ],
      "execution_count": 0,
      "outputs": []
    },
    {
      "cell_type": "markdown",
      "metadata": {
        "id": "WCnuydP9q-z_",
        "colab_type": "text"
      },
      "source": [
        "##Resnet"
      ]
    },
    {
      "cell_type": "markdown",
      "metadata": {
        "id": "U0d_NtmWsPlu",
        "colab_type": "text"
      },
      "source": [
        "###Summary"
      ]
    },
    {
      "cell_type": "code",
      "metadata": {
        "id": "B4TM1M4bfQGk",
        "colab_type": "code",
        "colab": {}
      },
      "source": [
        "resnet_model = ResNet50(include_top =True,weights='imagenet', input_shape=(224,224,3))\n",
        "resnet_output= Flatten()(resnet_model.outputs[-1])\n",
        "resnet_model = Model(inputs=resnet_model.inputs,outputs=resnet_output)\n",
        "resnet_edited = tf.keras.Sequential()\n",
        "resnet_edited.add(resnet_model)\n",
        "resnet_edited.add(Dense(4096, activation='relu'))\n",
        "resnet_edited.add(tf.keras.layers.Dropout(0.3))\n",
        "resnet_edited.add(Dense(4096, activation='relu'))\n",
        "resnet_edited.add(tf.keras.layers.Dropout(0.3))\n",
        "resnet_edited.add(Dense(10, activation='softmax'))"
      ],
      "execution_count": 0,
      "outputs": []
    },
    {
      "cell_type": "markdown",
      "metadata": {
        "id": "0qeXAeooryXI",
        "colab_type": "text"
      },
      "source": [
        "###Testing"
      ]
    },
    {
      "cell_type": "code",
      "metadata": {
        "id": "SHcsWon8jP4y",
        "colab_type": "code",
        "colab": {}
      },
      "source": [
        "accuracies = []\n",
        "losses = []\n",
        "\n",
        "for i in range(len(cv_training_ds)):\n",
        "  resnet_model = ResNet50(include_top =False,weights='imagenet', input_shape=(320,240,3))\n",
        "  resnet_flatten = Flatten()(resnet_model.outputs[-1])\n",
        "  resnet_output = Dense(10, activation = 'softmax')(resnet_flatten)\n",
        "  resnet_model = Model(inputs=resnet_model.inputs,outputs=resnet_output)\n",
        "  \n",
        "  resnet_model.compile(optimizer='nadam', loss = tf.keras.losses.SparseCategoricalCrossentropy(from_logits=False), metrics=['accuracy'])\n",
        "  resnet_model.fit(cv_training_ds[i], epochs=10, validation_data=cv_val_ds[i], callbacks=my_callbacks)\n",
        "\n",
        "  # Generate generalization metrics\n",
        "  scores = resnet_model.evaluate(cv_val_ds[i], verbose=0)\n",
        "  accuracies.append(scores[1] * 100)\n",
        "  losses.append(scores[0])\n",
        "\n",
        "# == Provide average scores ==\n",
        "print('------------------------------------------------------------------------')\n",
        "print('Score per fold')\n",
        "for i in range(0, len(accuracies)):\n",
        "  print('------------------------------------------------------------------------')\n",
        "  print(f'> Fold {i+1} - Loss: {losses[i]} - Accuracy: {accuracies[i]}%')\n",
        "print('------------------------------------------------------------------------')\n",
        "print('Average scores for all folds:')\n",
        "print(f'> Accuracy: {np.mean(accuracies)} (+- {np.std(accuracies)})')\n",
        "print(f'> Loss: {np.mean(losses)}')\n",
        "print('------------------------------------------------------------------------')"
      ],
      "execution_count": 0,
      "outputs": []
    },
    {
      "cell_type": "code",
      "metadata": {
        "id": "qrLtA6_K9a0O",
        "colab_type": "code",
        "outputId": "5dc9a4e4-c786-4843-f16d-6f76a9c1522c",
        "colab": {
          "base_uri": "https://localhost:8080/",
          "height": 357
        }
      },
      "source": [
        "def Resnet_preprocess(image,score):\n",
        "  image = keras.applications.resnet50.preprocess_input(image)\n",
        "  if score is None:\n",
        "        return image\n",
        "  else:\n",
        "        return image, score\n",
        "train = full_ds_s.map(Resnet_preprocess, num_parallel_calls=tf.data.experimental.AUTOTUNE)\n",
        "train = train.prefetch(tf.data.experimental.AUTOTUNE)\n",
        "\n",
        "resnet_edited.compile(optimizer='adam', loss = tf.keras.losses.SparseCategoricalCrossentropy(from_logits=False), metrics=['accuracy'])\n",
        "unfrozen_resnet_history = resnet_edited.fit(train, epochs=10)\n"
      ],
      "execution_count": 0,
      "outputs": [
        {
          "output_type": "stream",
          "text": [
            "Epoch 1/10\n",
            "701/701 [==============================] - 129s 185ms/step - loss: 1.3623 - accuracy: 0.4580\n",
            "Epoch 2/10\n",
            "701/701 [==============================] - 129s 184ms/step - loss: 0.3865 - accuracy: 0.8828\n",
            "Epoch 3/10\n",
            "701/701 [==============================] - 128s 183ms/step - loss: 0.3746 - accuracy: 0.8965\n",
            "Epoch 4/10\n",
            "701/701 [==============================] - 128s 183ms/step - loss: 0.2225 - accuracy: 0.9402\n",
            "Epoch 5/10\n",
            "701/701 [==============================] - 129s 184ms/step - loss: 0.1243 - accuracy: 0.9696\n",
            "Epoch 6/10\n",
            "701/701 [==============================] - 129s 183ms/step - loss: 0.1214 - accuracy: 0.9691\n",
            "Epoch 7/10\n",
            "701/701 [==============================] - 128s 183ms/step - loss: 0.0536 - accuracy: 0.9868\n",
            "Epoch 8/10\n",
            "701/701 [==============================] - 129s 184ms/step - loss: 0.0479 - accuracy: 0.9883\n",
            "Epoch 9/10\n",
            "701/701 [==============================] - 129s 184ms/step - loss: 0.0414 - accuracy: 0.9904\n",
            "Epoch 10/10\n",
            "701/701 [==============================] - 129s 184ms/step - loss: 0.0423 - accuracy: 0.9896\n"
          ],
          "name": "stdout"
        }
      ]
    },
    {
      "cell_type": "code",
      "metadata": {
        "id": "Mn2z5zWVyyUL",
        "colab_type": "code",
        "outputId": "4d074931-fa1e-4d89-fa66-fc6a7cd3375d",
        "colab": {
          "base_uri": "https://localhost:8080/",
          "height": 357
        }
      },
      "source": [
        "unfrozen_resnet_history.history"
      ],
      "execution_count": 0,
      "outputs": [
        {
          "output_type": "execute_result",
          "data": {
            "text/plain": [
              "{'accuracy': [0.109034962952137,\n",
              "  0.1380663514137268,\n",
              "  0.17289511859416962,\n",
              "  0.22694434225559235,\n",
              "  0.3946664333343506,\n",
              "  0.7379147410392761,\n",
              "  0.9123706817626953,\n",
              "  0.9581698179244995,\n",
              "  0.952194094657898,\n",
              "  0.9741794466972351],\n",
              " 'loss': [2.296982765197754,\n",
              "  2.2473411560058594,\n",
              "  2.1428446769714355,\n",
              "  2.0316994190216064,\n",
              "  1.5821892023086548,\n",
              "  0.7355113625526428,\n",
              "  0.2955186069011688,\n",
              "  0.15644803643226624,\n",
              "  0.17955373227596283,\n",
              "  0.09818514436483383]}"
            ]
          },
          "metadata": {
            "tags": []
          },
          "execution_count": 12
        }
      ]
    },
    {
      "cell_type": "code",
      "metadata": {
        "id": "Dl_M6ulR43Wd",
        "colab_type": "code",
        "outputId": "e280e50e-2733-423e-ca6e-b713a73e3ec4",
        "colab": {
          "base_uri": "https://localhost:8080/",
          "height": 312
        }
      },
      "source": [
        "plt.plot(unfrozen_resnet_history.history['accuracy'])\n",
        "plt.title(\"Resnet model accuracy with unfrozen layers\")\n",
        "plt.xlabel('Number of epochs')\n",
        "plt.ylabel(\"Accuracy\")"
      ],
      "execution_count": 0,
      "outputs": [
        {
          "output_type": "execute_result",
          "data": {
            "text/plain": [
              "Text(0, 0.5, 'Accuracy')"
            ]
          },
          "metadata": {
            "tags": []
          },
          "execution_count": 40
        },
        {
          "output_type": "display_data",
          "data": {
            "image/png": "[encoded data removed]",
            "text/plain": [
              "<Figure size 432x288 with 1 Axes>"
            ]
          },
          "metadata": {
            "tags": [],
            "needs_background": "light"
          }
        }
      ]
    },
    {
      "cell_type": "code",
      "metadata": {
        "id": "yLwNCFZ46TS0",
        "colab_type": "code",
        "outputId": "8aa1b5f4-475e-4b36-c2b6-f40a00638ea4",
        "colab": {
          "base_uri": "https://localhost:8080/",
          "height": 312
        }
      },
      "source": [
        "plt.plot(unfrozen_resnet_history.history['loss'])\n",
        "plt.title(\"Model loss with unfrozen layers\")\n",
        "plt.xlabel('Number of epochs')\n",
        "plt.ylabel(\"Loss\")"
      ],
      "execution_count": 0,
      "outputs": [
        {
          "output_type": "execute_result",
          "data": {
            "text/plain": [
              "Text(0, 0.5, 'Loss')"
            ]
          },
          "metadata": {
            "tags": []
          },
          "execution_count": 41
        },
        {
          "output_type": "display_data",
          "data": {
            "image/png": "[encoded data removed]",
            "text/plain": [
              "<Figure size 432x288 with 1 Axes>"
            ]
          },
          "metadata": {
            "tags": [],
            "needs_background": "light"
          }
        }
      ]
    },
    {
      "cell_type": "code",
      "metadata": {
        "id": "-VeYfCQR7M3r",
        "colab_type": "code",
        "colab": {}
      },
      "source": [
        "frozen_resnet_model = ResNet50(include_top =True,weights='imagenet', input_shape=(224,224,3))\n",
        "frozen_resnet_output= Flatten()(frozen_resnet_model.outputs[-1])\n",
        "# resnet_output = Dense(10, activation = 'softmax')(resnet_flatten)\n",
        "frozen_resnet_model = Model(inputs=frozen_resnet_model.inputs,outputs=frozen_resnet_output)\n",
        "for layers in frozen_resnet_model.layers:\n",
        "  layers.trainable = False\n",
        "frozen_resnet_edited = tf.keras.Sequential()\n",
        "frozen_resnet_edited.add(frozen_resnet_model)\n",
        "frozen_resnet_edited.add(Dense(4096, activation='relu'))\n",
        "frozen_resnet_edited.add(tf.keras.layers.Dropout(0.3))\n",
        "frozen_resnet_edited.add(Dense(4096, activation='relu'))\n",
        "frozen_resnet_edited.add(tf.keras.layers.Dropout(0.3))\n",
        "frozen_resnet_edited.add(Dense(10, activation='softmax'))"
      ],
      "execution_count": 0,
      "outputs": []
    },
    {
      "cell_type": "code",
      "metadata": {
        "id": "BsrI68Tn8Qf5",
        "colab_type": "code",
        "outputId": "237e446c-ee36-4731-f99f-a74f0de00c92",
        "colab": {
          "base_uri": "https://localhost:8080/",
          "height": 357
        }
      },
      "source": [
        "train = full_ds_s.map(Resnet_preprocess, num_parallel_calls=tf.data.experimental.AUTOTUNE)\n",
        "train = train.prefetch(tf.data.experimental.AUTOTUNE)\n",
        "\n",
        "frozen_resnet_edited.compile(optimizer='adam', loss = tf.keras.losses.SparseCategoricalCrossentropy(from_logits=False), metrics=['accuracy'])\n",
        "frozen_resnet_history = frozen_resnet_edited.fit(train, epochs=10)"
      ],
      "execution_count": 0,
      "outputs": [
        {
          "output_type": "stream",
          "text": [
            "Epoch 1/10\n",
            "701/701 [==============================] - 99s 141ms/step - loss: 2.1721 - accuracy: 0.1911\n",
            "Epoch 2/10\n",
            "701/701 [==============================] - 98s 139ms/step - loss: 2.0233 - accuracy: 0.2525\n",
            "Epoch 3/10\n",
            "701/701 [==============================] - 98s 140ms/step - loss: 1.9299 - accuracy: 0.2945\n",
            "Epoch 4/10\n",
            "701/701 [==============================] - 97s 139ms/step - loss: 1.8583 - accuracy: 0.3206\n",
            "Epoch 5/10\n",
            "701/701 [==============================] - 97s 138ms/step - loss: 1.8113 - accuracy: 0.3411\n",
            "Epoch 6/10\n",
            "701/701 [==============================] - 97s 138ms/step - loss: 1.7597 - accuracy: 0.3665\n",
            "Epoch 7/10\n",
            "701/701 [==============================] - 97s 138ms/step - loss: 1.7203 - accuracy: 0.3775\n",
            "Epoch 8/10\n",
            "701/701 [==============================] - 96s 138ms/step - loss: 1.6783 - accuracy: 0.3939\n",
            "Epoch 9/10\n",
            "701/701 [==============================] - 97s 139ms/step - loss: 1.6384 - accuracy: 0.4109\n",
            "Epoch 10/10\n",
            "701/701 [==============================] - 97s 138ms/step - loss: 1.6121 - accuracy: 0.4209\n"
          ],
          "name": "stdout"
        }
      ]
    },
    {
      "cell_type": "code",
      "metadata": {
        "id": "tY7sbS-uGDsq",
        "colab_type": "code",
        "outputId": "2f2faaa7-d260-4ebb-9c6c-16baa4c6b832",
        "colab": {
          "base_uri": "https://localhost:8080/",
          "height": 357
        }
      },
      "source": [
        "frozen_resnet_history.history"
      ],
      "execution_count": 0,
      "outputs": [
        {
          "output_type": "execute_result",
          "data": {
            "text/plain": [
              "{'accuracy': [0.1911344975233078,\n",
              "  0.2524527311325073,\n",
              "  0.29446128010749817,\n",
              "  0.32059401273727417,\n",
              "  0.3411077558994293,\n",
              "  0.36648234724998474,\n",
              "  0.3774527311325073,\n",
              "  0.393863707780838,\n",
              "  0.41085442900657654,\n",
              "  0.42088833451271057],\n",
              " 'loss': [2.1721034049987793,\n",
              "  2.0233311653137207,\n",
              "  1.9299473762512207,\n",
              "  1.8582597970962524,\n",
              "  1.8112982511520386,\n",
              "  1.7597224712371826,\n",
              "  1.7202528715133667,\n",
              "  1.6783212423324585,\n",
              "  1.6383651494979858,\n",
              "  1.6121286153793335]}"
            ]
          },
          "metadata": {
            "tags": []
          },
          "execution_count": 87
        }
      ]
    },
    {
      "cell_type": "markdown",
      "metadata": {
        "id": "X1RKEbHzoemF",
        "colab_type": "text"
      },
      "source": [
        "### Results\n"
      ]
    },
    {
      "cell_type": "code",
      "metadata": {
        "id": "rSx1qQQsIire",
        "colab_type": "code",
        "outputId": "6e3bbc28-24c9-45e5-8c86-839af200d7f4",
        "colab": {
          "base_uri": "https://localhost:8080/",
          "height": 312
        }
      },
      "source": [
        "plt.plot(frozen_resnet_history.history['accuracy'])\n",
        "plt.title(\"Resnet model accuracy with unfrozen layers\")\n",
        "plt.xlabel('Number of epochs')\n",
        "plt.ylabel(\"Accuracy\")"
      ],
      "execution_count": 0,
      "outputs": [
        {
          "output_type": "execute_result",
          "data": {
            "text/plain": [
              "Text(0, 0.5, 'Accuracy')"
            ]
          },
          "metadata": {
            "tags": []
          },
          "execution_count": 46
        },
        {
          "output_type": "display_data",
          "data": {
            "image/png": "[encoded data removed]",
            "text/plain": [
              "<Figure size 432x288 with 1 Axes>"
            ]
          },
          "metadata": {
            "tags": [],
            "needs_background": "light"
          }
        }
      ]
    },
    {
      "cell_type": "code",
      "metadata": {
        "id": "FQqszbOcI4qX",
        "colab_type": "code",
        "outputId": "1f246583-bbb9-40f2-e87a-0e7cbffdc2a0",
        "colab": {
          "base_uri": "https://localhost:8080/",
          "height": 312
        }
      },
      "source": [
        "plt.plot(frozen_resnet_history.history['loss'])\n",
        "plt.title(\"Resnet Model loss with unfrozen layers\")\n",
        "plt.xlabel('Number of epochs')\n",
        "plt.ylabel(\"Loss\")"
      ],
      "execution_count": 0,
      "outputs": [
        {
          "output_type": "execute_result",
          "data": {
            "text/plain": [
              "Text(0, 0.5, 'Loss')"
            ]
          },
          "metadata": {
            "tags": []
          },
          "execution_count": 47
        },
        {
          "output_type": "display_data",
          "data": {
            "image/png": "[encoded data removed]",
            "text/plain": [
              "<Figure size 432x288 with 1 Axes>"
            ]
          },
          "metadata": {
            "tags": [],
            "needs_background": "light"
          }
        }
      ]
    },
    {
      "cell_type": "code",
      "metadata": {
        "id": "whSAZHBGW3iW",
        "colab_type": "code",
        "outputId": "a7782f7a-08cd-4151-a025-8815a14c7f4e",
        "colab": {
          "base_uri": "https://localhost:8080/",
          "height": 530
        }
      },
      "source": [
        "plt.figure(figsize=(12,8))\n",
        "plt.plot(frozen_resnet_history.history['accuracy'])\n",
        "plt.plot(unfrozen_resnet_history.history['accuracy'])\n",
        "plt.title(\"Comparing accuracy of frozen and unfrozen layers in Resnet Model\")\n",
        "plt.xlabel('Number of epochs')\n",
        "plt.ylabel('Accuracy')\n",
        "plt.legend(['frozen','unfrozen'], loc='upper left')"
      ],
      "execution_count": 0,
      "outputs": [
        {
          "output_type": "execute_result",
          "data": {
            "text/plain": [
              "<matplotlib.legend.Legend at 0x7f6470e930f0>"
            ]
          },
          "metadata": {
            "tags": []
          },
          "execution_count": 55
        },
        {
          "output_type": "display_data",
          "data": {
            "image/png": "[encoded data removed]",
            "text/plain": [
              "<Figure size 864x576 with 1 Axes>"
            ]
          },
          "metadata": {
            "tags": [],
            "needs_background": "light"
          }
        }
      ]
    },
    {
      "cell_type": "code",
      "metadata": {
        "id": "AP4Lr2bYXbvj",
        "colab_type": "code",
        "outputId": "c75f255a-e6ee-42ac-bfd9-054b212c84c0",
        "colab": {
          "base_uri": "https://localhost:8080/",
          "height": 530
        }
      },
      "source": [
        "plt.figure(figsize=(12,8))\n",
        "plt.plot(frozen_resnet_history.history['loss'])\n",
        "plt.plot(unfrozen_resnet_history.history['loss'])\n",
        "plt.title(\"Comparing loss of frozen and unfrozen layers in Resnet Model\")\n",
        "plt.xlabel('Number of epochs')\n",
        "plt.ylabel('Loss')\n",
        "plt.legend(['frozen','unfrozen'], loc='upper left')"
      ],
      "execution_count": 0,
      "outputs": [
        {
          "output_type": "execute_result",
          "data": {
            "text/plain": [
              "<matplotlib.legend.Legend at 0x7f6470d26908>"
            ]
          },
          "metadata": {
            "tags": []
          },
          "execution_count": 57
        },
        {
          "output_type": "display_data",
          "data": {
            "image/png": "[encoded data removed]",
            "text/plain": [
              "<Figure size 864x576 with 1 Axes>"
            ]
          },
          "metadata": {
            "tags": [],
            "needs_background": "light"
          }
        }
      ]
    },
    {
      "cell_type": "code",
      "metadata": {
        "id": "d-12ucsZZSPb",
        "colab_type": "code",
        "colab": {}
      },
      "source": [
        "resnet_edited.save(\"drive/My Drive/unfrozen_resnet50_model.h5\")"
      ],
      "execution_count": 0,
      "outputs": []
    },
    {
      "cell_type": "markdown",
      "metadata": {
        "id": "HQEb8EgIrB1j",
        "colab_type": "text"
      },
      "source": [
        "##Inception"
      ]
    },
    {
      "cell_type": "markdown",
      "metadata": {
        "id": "aMPLA6N2sQYE",
        "colab_type": "text"
      },
      "source": [
        "###Summary"
      ]
    },
    {
      "cell_type": "code",
      "metadata": {
        "id": "dEGrvURJgGI6",
        "colab_type": "code",
        "outputId": "b87f69b7-3b16-4145-bb3d-2d1496dac4fd",
        "colab": {
          "base_uri": "https://localhost:8080/",
          "height": 357
        }
      },
      "source": [
        "inception_model = InceptionV3(include_top = False,weights='imagenet', input_shape=(224,224,3),pooling='max')\n",
        "inception_flatten = Flatten()(inception_model.outputs[-1])\n",
        "# inception_output = Dense(10, activation = 'softmax')(inception_flatten)\n",
        "inception_model = Model(inputs=inception_model.inputs,outputs=inception_flatten)\n",
        "inception_edited = tf.keras.Sequential()\n",
        "inception_edited.add(inception_model)\n",
        "inception_edited.add(Dense(4096, activation='relu'))\n",
        "inception_edited.add(tf.keras.layers.Dropout(0.3))\n",
        "inception_edited.add(Dense(4096, activation='relu'))\n",
        "inception_edited.add(tf.keras.layers.Dropout(0.3))\n",
        "inception_edited.add(Dense(10, activation='softmax'))\n",
        "inception_edited.summary()"
      ],
      "execution_count": 0,
      "outputs": [
        {
          "output_type": "stream",
          "text": [
            "Model: \"sequential_13\"\n",
            "_________________________________________________________________\n",
            "Layer (type)                 Output Shape              Param #   \n",
            "=================================================================\n",
            "functional_29 (Functional)   (None, 2048)              21802784  \n",
            "_________________________________________________________________\n",
            "dense_40 (Dense)             (None, 4096)              8392704   \n",
            "_________________________________________________________________\n",
            "dropout_26 (Dropout)         (None, 4096)              0         \n",
            "_________________________________________________________________\n",
            "dense_41 (Dense)             (None, 4096)              16781312  \n",
            "_________________________________________________________________\n",
            "dropout_27 (Dropout)         (None, 4096)              0         \n",
            "_________________________________________________________________\n",
            "dense_42 (Dense)             (None, 10)                40970     \n",
            "=================================================================\n",
            "Total params: 47,017,770\n",
            "Trainable params: 46,983,338\n",
            "Non-trainable params: 34,432\n",
            "_________________________________________________________________\n"
          ],
          "name": "stdout"
        }
      ]
    },
    {
      "cell_type": "code",
      "metadata": {
        "id": "lDOWoqJ3eGez",
        "colab_type": "code",
        "outputId": "438c8c01-b7fa-4cba-ad5c-ea5dea853363",
        "colab": {
          "base_uri": "https://localhost:8080/",
          "height": 357
        }
      },
      "source": [
        "frozen_inception_model = InceptionV3(include_top = False,weights='imagenet', input_shape=(224,224,3),pooling='max')\n",
        "frozen_inception_flatten = Flatten()(frozen_inception_model.outputs[-1])\n",
        "for layers in frozen_inception_model.layers:\n",
        "  layers.trainable = False\n",
        "frozen_inception_model = Model(inputs=frozen_inception_model.inputs,outputs=frozen_inception_flatten)\n",
        "frozen_inception_edited = tf.keras.Sequential()\n",
        "frozen_inception_edited.add(frozen_inception_model)\n",
        "frozen_inception_edited.add(Dense(4096, activation='relu'))\n",
        "frozen_inception_edited.add(tf.keras.layers.Dropout(0.3))\n",
        "frozen_inception_edited.add(Dense(4096, activation='relu'))\n",
        "frozen_inception_edited.add(tf.keras.layers.Dropout(0.3))\n",
        "frozen_inception_edited.add(Dense(10, activation='softmax'))\n",
        "frozen_inception_edited.summary()"
      ],
      "execution_count": 0,
      "outputs": [
        {
          "output_type": "stream",
          "text": [
            "Model: \"sequential_15\"\n",
            "_________________________________________________________________\n",
            "Layer (type)                 Output Shape              Param #   \n",
            "=================================================================\n",
            "functional_33 (Functional)   (None, 2048)              21802784  \n",
            "_________________________________________________________________\n",
            "dense_46 (Dense)             (None, 4096)              8392704   \n",
            "_________________________________________________________________\n",
            "dropout_30 (Dropout)         (None, 4096)              0         \n",
            "_________________________________________________________________\n",
            "dense_47 (Dense)             (None, 4096)              16781312  \n",
            "_________________________________________________________________\n",
            "dropout_31 (Dropout)         (None, 4096)              0         \n",
            "_________________________________________________________________\n",
            "dense_48 (Dense)             (None, 10)                40970     \n",
            "=================================================================\n",
            "Total params: 47,017,770\n",
            "Trainable params: 25,214,986\n",
            "Non-trainable params: 21,802,784\n",
            "_________________________________________________________________\n"
          ],
          "name": "stdout"
        }
      ]
    },
    {
      "cell_type": "markdown",
      "metadata": {
        "id": "skbwx73dr-64",
        "colab_type": "text"
      },
      "source": [
        "###Testing"
      ]
    },
    {
      "cell_type": "code",
      "metadata": {
        "id": "Ny7NqD2njVca",
        "colab_type": "code",
        "colab": {}
      },
      "source": [
        "accuracies = []\n",
        "losses = []\n",
        "\n",
        "for i in range(len(cv_training_ds)):\n",
        "  inception_model = InceptionV3(include_top =False,weights='imagenet', input_shape=(320,240,3))\n",
        "  inception_flatten = Flatten()(inception_model.outputs[-1])\n",
        "  inception_output = Dense(10, activation = 'softmax')(inception_flatten)\n",
        "  inception_model = Model(inputs=inception_model.inputs,outputs=inception_output)\n",
        "\n",
        "  inception_model.compile(optimizer='nadam', loss = tf.keras.losses.SparseCategoricalCrossentropy(from_logits=False), metrics=['accuracy'])\n",
        "  inception_model.fit(cv_training_ds[i], epochs=10, validation_data=cv_val_ds[i], callbacks=inception_callbacks)\n",
        "\n",
        "  # Generate generalization metrics\n",
        "  scores = inception_model.evaluate(cv_val_ds[i], verbose=0)\n",
        "  accuracies.append(scores[1] * 100)\n",
        "  losses.append(scores[0])\n",
        "\n",
        "# == Provide average scores ==\n",
        "print('------------------------------------------------------------------------')\n",
        "print('Score per fold')\n",
        "for i in range(0, len(accuracies)):\n",
        "  print('------------------------------------------------------------------------')\n",
        "  print(f'> Fold {i+1} - Loss: {losses[i]} - Accuracy: {accuracies[i]}%')\n",
        "print('------------------------------------------------------------------------')\n",
        "print('Average scores for all folds:')\n",
        "print(f'> Accuracy: {np.mean(accuracies)} (+- {np.std(accuracies)})')\n",
        "print(f'> Loss: {np.mean(losses)}')\n",
        "print('------------------------------------------------------------------------')"
      ],
      "execution_count": 0,
      "outputs": []
    },
    {
      "cell_type": "code",
      "metadata": {
        "id": "MAx5cCUEfE-3",
        "colab_type": "code",
        "outputId": "90c6740c-3755-446b-ebd6-c5b43d2d7f83",
        "colab": {
          "base_uri": "https://localhost:8080/",
          "height": 357
        }
      },
      "source": [
        "def Inception_preprocess(image,score):\n",
        "  image = keras.applications.inception_v3.preprocess_input(image)\n",
        "  if score is None:\n",
        "        return image\n",
        "  else:\n",
        "        return image, score\n",
        "train = full_ds_s.map(Inception_preprocess, num_parallel_calls=tf.data.experimental.AUTOTUNE)\n",
        "train = train.prefetch(tf.data.experimental.AUTOTUNE)\n",
        "\n",
        "inception_edited.compile(optimizer='adam', loss = tf.keras.losses.SparseCategoricalCrossentropy(from_logits=False), metrics=['accuracy'])\n",
        "unfrozen_inception_history = inception_edited.fit(train, epochs=10)"
      ],
      "execution_count": 0,
      "outputs": [
        {
          "output_type": "stream",
          "text": [
            "Epoch 1/10\n",
            "701/701 [==============================] - 105s 150ms/step - loss: 2.4473 - accuracy: 0.1075\n",
            "Epoch 2/10\n",
            "701/701 [==============================] - 105s 150ms/step - loss: 1.3380 - accuracy: 0.4410\n",
            "Epoch 3/10\n",
            "701/701 [==============================] - 105s 149ms/step - loss: 0.6734 - accuracy: 0.7711\n",
            "Epoch 4/10\n",
            "701/701 [==============================] - 105s 149ms/step - loss: 0.2396 - accuracy: 0.9368\n",
            "Epoch 5/10\n",
            "701/701 [==============================] - 105s 149ms/step - loss: 0.1454 - accuracy: 0.9641\n",
            "Epoch 6/10\n",
            "701/701 [==============================] - 105s 149ms/step - loss: 0.1242 - accuracy: 0.9703\n",
            "Epoch 7/10\n",
            "701/701 [==============================] - 105s 149ms/step - loss: 0.1867 - accuracy: 0.9603\n",
            "Epoch 8/10\n",
            "701/701 [==============================] - 105s 149ms/step - loss: 0.1693 - accuracy: 0.9604\n",
            "Epoch 9/10\n",
            "701/701 [==============================] - 105s 149ms/step - loss: 0.1118 - accuracy: 0.9757\n",
            "Epoch 10/10\n",
            "701/701 [==============================] - 104s 149ms/step - loss: 0.0671 - accuracy: 0.9842\n"
          ],
          "name": "stdout"
        }
      ]
    },
    {
      "cell_type": "code",
      "metadata": {
        "id": "wU7KBqx-9gKx",
        "colab_type": "code",
        "outputId": "9a74c261-4ec5-4636-9bce-f7fc8c5ca56d",
        "colab": {
          "base_uri": "https://localhost:8080/",
          "height": 357
        }
      },
      "source": [
        "unfrozen_inception_history.history"
      ],
      "execution_count": 0,
      "outputs": [
        {
          "output_type": "execute_result",
          "data": {
            "text/plain": [
              "{'accuracy': [0.10751873254776001,\n",
              "  0.44095611572265625,\n",
              "  0.771093487739563,\n",
              "  0.9367641806602478,\n",
              "  0.9641009569168091,\n",
              "  0.9703442454338074,\n",
              "  0.9602658152580261,\n",
              "  0.9603995680809021,\n",
              "  0.9756956696510315,\n",
              "  0.9842133522033691],\n",
              " 'loss': [2.447340726852417,\n",
              "  1.3379772901535034,\n",
              "  0.6733539700508118,\n",
              "  0.23962128162384033,\n",
              "  0.14542421698570251,\n",
              "  0.12419217079877853,\n",
              "  0.18674160540103912,\n",
              "  0.16928334534168243,\n",
              "  0.11177205294370651,\n",
              "  0.0670648142695427]}"
            ]
          },
          "metadata": {
            "tags": []
          },
          "execution_count": 85
        }
      ]
    },
    {
      "cell_type": "code",
      "metadata": {
        "id": "H7reKLf9ngcI",
        "colab_type": "code",
        "outputId": "e4cd2c20-4b2f-4042-bd62-ad7f046dde58",
        "colab": {
          "base_uri": "https://localhost:8080/",
          "height": 357
        }
      },
      "source": [
        "train = full_ds_s.map(Inception_preprocess, num_parallel_calls=tf.data.experimental.AUTOTUNE)\n",
        "train = train.prefetch(tf.data.experimental.AUTOTUNE)\n",
        "\n",
        "frozen_inception_edited.compile(optimizer='adam', loss = tf.keras.losses.SparseCategoricalCrossentropy(from_logits=False), metrics=['accuracy'])\n",
        "frozen_inception_history = frozen_inception_edited.fit(train, epochs=10)"
      ],
      "execution_count": 0,
      "outputs": [
        {
          "output_type": "stream",
          "text": [
            "Epoch 1/10\n",
            "701/701 [==============================] - 64s 91ms/step - loss: 2.0686 - accuracy: 0.4072\n",
            "Epoch 2/10\n",
            "701/701 [==============================] - 65s 93ms/step - loss: 1.3286 - accuracy: 0.5065\n",
            "Epoch 3/10\n",
            "701/701 [==============================] - 65s 93ms/step - loss: 1.3152 - accuracy: 0.5205\n",
            "Epoch 4/10\n",
            "701/701 [==============================] - 65s 93ms/step - loss: 1.2323 - accuracy: 0.5549\n",
            "Epoch 5/10\n",
            "701/701 [==============================] - 65s 93ms/step - loss: 1.1606 - accuracy: 0.5746\n",
            "Epoch 6/10\n",
            "701/701 [==============================] - 65s 92ms/step - loss: 1.2201 - accuracy: 0.5614\n",
            "Epoch 7/10\n",
            "701/701 [==============================] - 65s 93ms/step - loss: 1.3357 - accuracy: 0.5258\n",
            "Epoch 8/10\n",
            "701/701 [==============================] - 65s 92ms/step - loss: 1.4237 - accuracy: 0.4822\n",
            "Epoch 9/10\n",
            "701/701 [==============================] - 65s 93ms/step - loss: 1.3805 - accuracy: 0.5051\n",
            "Epoch 10/10\n",
            "701/701 [==============================] - 65s 92ms/step - loss: 1.3483 - accuracy: 0.5206\n"
          ],
          "name": "stdout"
        }
      ]
    },
    {
      "cell_type": "code",
      "metadata": {
        "id": "URi5foitF4lf",
        "colab_type": "code",
        "outputId": "9e7bc164-93a2-4442-fc93-32040dc0d58a",
        "colab": {
          "base_uri": "https://localhost:8080/",
          "height": 357
        }
      },
      "source": [
        "frozen_inception_history.history"
      ],
      "execution_count": 0,
      "outputs": [
        {
          "output_type": "execute_result",
          "data": {
            "text/plain": [
              "{'accuracy': [0.4072422385215759,\n",
              "  0.506510853767395,\n",
              "  0.5205137133598328,\n",
              "  0.5548965334892273,\n",
              "  0.5745629668235779,\n",
              "  0.5613628029823303,\n",
              "  0.5257759690284729,\n",
              "  0.4822065532207489,\n",
              "  0.5050838589668274,\n",
              "  0.5206029415130615],\n",
              " 'loss': [2.06860089302063,\n",
              "  1.3286464214324951,\n",
              "  1.315225601196289,\n",
              "  1.2322593927383423,\n",
              "  1.160560965538025,\n",
              "  1.2200864553451538,\n",
              "  1.335684061050415,\n",
              "  1.4236747026443481,\n",
              "  1.3804690837860107,\n",
              "  1.3482717275619507]}"
            ]
          },
          "metadata": {
            "tags": []
          },
          "execution_count": 86
        }
      ]
    },
    {
      "cell_type": "markdown",
      "metadata": {
        "id": "ry7ePU2DolV0",
        "colab_type": "text"
      },
      "source": [
        "### Results"
      ]
    },
    {
      "cell_type": "code",
      "metadata": {
        "id": "Y_CVHlUPoozs",
        "colab_type": "code",
        "outputId": "c773e352-1ba1-4d1f-c565-b4bb0dc75a6c",
        "colab": {
          "base_uri": "https://localhost:8080/",
          "height": 530
        }
      },
      "source": [
        "plt.figure(figsize=(12,8))\n",
        "plt.plot(frozen_inception_history.history['accuracy'])\n",
        "plt.plot(unfrozen_inception_history.history['accuracy'])\n",
        "plt.title(\"Comparing accuracy of frozen and unfrozen layers in Inceptionv3 Model\")\n",
        "plt.xlabel('Number of epochs')\n",
        "plt.ylabel('Accuracy')\n",
        "plt.legend(['frozen','unfrozen'], loc='upper left')"
      ],
      "execution_count": 0,
      "outputs": [
        {
          "output_type": "execute_result",
          "data": {
            "text/plain": [
              "<matplotlib.legend.Legend at 0x7f62bb1e4978>"
            ]
          },
          "metadata": {
            "tags": []
          },
          "execution_count": 72
        },
        {
          "output_type": "display_data",
          "data": {
            "image/png": "[encoded data removed]",
            "text/plain": [
              "<Figure size 864x576 with 1 Axes>"
            ]
          },
          "metadata": {
            "tags": [],
            "needs_background": "light"
          }
        }
      ]
    },
    {
      "cell_type": "code",
      "metadata": {
        "id": "jRAD7xdVrHwF",
        "colab_type": "code",
        "outputId": "9004b4cf-08cc-4ca4-f54e-39f4aca11623",
        "colab": {
          "base_uri": "https://localhost:8080/",
          "height": 530
        }
      },
      "source": [
        "plt.figure(figsize=(12,8))\n",
        "plt.plot(frozen_inception_history.history['loss'])\n",
        "plt.plot(unfrozen_inception_history.history['loss'])\n",
        "plt.title(\"Comparing loss of frozen and unfrozen layers in Inceptionv3 Model\")\n",
        "plt.xlabel('Number of epochs')\n",
        "plt.ylabel('Loss')\n",
        "plt.legend(['frozen','unfrozen'], loc='upper left')"
      ],
      "execution_count": 0,
      "outputs": [
        {
          "output_type": "execute_result",
          "data": {
            "text/plain": [
              "<matplotlib.legend.Legend at 0x7f62bb14bb38>"
            ]
          },
          "metadata": {
            "tags": []
          },
          "execution_count": 73
        },
        {
          "output_type": "display_data",
          "data": {
            "image/png": "[encoded data removed]",
            "text/plain": [
              "<Figure size 864x576 with 1 Axes>"
            ]
          },
          "metadata": {
            "tags": [],
            "needs_background": "light"
          }
        }
      ]
    },
    {
      "cell_type": "code",
      "metadata": {
        "id": "EINoXcaeDUMd",
        "colab_type": "code",
        "colab": {}
      },
      "source": [
        "inception_edited.save(\"drive/My Drive/unfrozen_inceptionv3_model.h5\")"
      ],
      "execution_count": 0,
      "outputs": []
    },
    {
      "cell_type": "markdown",
      "metadata": {
        "id": "JL4IpabgsfAS",
        "colab_type": "text"
      },
      "source": [
        "#Other"
      ]
    },
    {
      "cell_type": "code",
      "metadata": {
        "id": "8ZlezWHUs_jB",
        "colab_type": "code",
        "colab": {}
      },
      "source": [
        "# it = iter(full_ds) # Dataset iterable\n",
        "# images = next(it)[0].numpy() # Get first batch of images\n",
        "# images = preprocess_input(images) # Preprocess images. Not sure if this necessary or not\n",
        "\n",
        "# yhat = model.predict(images)"
      ],
      "execution_count": 0,
      "outputs": []
    }
  ]
}